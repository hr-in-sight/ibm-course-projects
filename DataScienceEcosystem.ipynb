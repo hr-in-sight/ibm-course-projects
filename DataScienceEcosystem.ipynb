{
 "cells": [
  {
   "cell_type": "markdown",
   "id": "34471142-e4fa-42dd-97d5-d317899d49dd",
   "metadata": {},
   "source": [
    "# Final Assignment Instructions: Create and Share Your Jupyter Notebook"
   ]
  },
  {
   "cell_type": "markdown",
   "id": "60ab17f9-675e-4037-ad6b-a8446fdcdbbf",
   "metadata": {},
   "source": [
    "### Exercise 1: Create a Jupyter Notebook\n",
    "\n",
    "☑️ Create a new Jupyter notebook called DataScienceEcosystem.ipynb"
   ]
  },
  {
   "cell_type": "markdown",
   "id": "47aa2f6a-17cc-431f-adbf-ce758a759311",
   "metadata": {},
   "source": [
    "### Exercise 2: Create markdown cell with title of the notebook\n",
    "\n",
    "# Data Science Tools and Ecosystem"
   ]
  },
  {
   "cell_type": "markdown",
   "id": "078208d7-dcc6-4cbe-8bbc-133f24300a00",
   "metadata": {},
   "source": [
    "### Exercise 3 - Create a markdown cell for an introduction\n",
    "\n",
    "In this notebook, Data Science Tools and Ecosystem are summarized."
   ]
  },
  {
   "cell_type": "markdown",
   "id": "e070fb28-33b7-47ce-ad3d-ee09c1d33ffc",
   "metadata": {},
   "source": [
    "### Exercise 4 - Create a markdown cell to list data science languages\n",
    "\n",
    "Some of the popular languages that Data Scientists use are:\n",
    "1. Python\n",
    "2. R\n",
    "3. SQL"
   ]
  },
  {
   "cell_type": "markdown",
   "id": "3c081bb2-4a5d-48aa-bc70-198b522fab72",
   "metadata": {},
   "source": [
    "### Exercise 5: Create a markdown cell to list Data Science Libraries\n",
    "\n",
    "Some of the commonly used libraries used by Data Scientists include:\n",
    "\n",
    "1. Pandas\n",
    "2. NumPy\n",
    "3. Matplotlib\n"
   ]
  },
  {
   "cell_type": "markdown",
   "id": "da5f3eaf-ea05-4926-9c69-788e378e31fd",
   "metadata": {},
   "source": [
    "### Exercise 6 - Create a markdown cell with a table of Data Science tools\n",
    "\n",
    "| Data Science Tools       |\n",
    "|--------------------------|\n",
    "| Jupyter Notebook         |\n",
    "| RStudio                  |\n",
    "| GitHub                   |"
   ]
  },
  {
   "cell_type": "markdown",
   "id": "244c9bac-e367-4579-b52b-aaa3c9a86dcd",
   "metadata": {},
   "source": [
    "### Exercise 7 - Create a markdown cell introducing arithmetic expression examples\n",
    "\n",
    "### Below are a few examples of evaluating arithmetic expressions in Python."
   ]
  },
  {
   "cell_type": "markdown",
   "id": "846dbeed-0c34-4278-a141-8799c4e3c48d",
   "metadata": {},
   "source": [
    "### Exercise 8 - Create a code cell to multiply and add numbers"
   ]
  },
  {
   "cell_type": "code",
   "execution_count": 5,
   "id": "959123dc-d276-4f8b-ab14-e021fac0a5bf",
   "metadata": {},
   "outputs": [
    {
     "data": {
      "text/plain": [
       "17"
      ]
     },
     "execution_count": 5,
     "metadata": {},
     "output_type": "execute_result"
    }
   ],
   "source": [
    "# This a simple arithmetic expression to multiply then add integers\n",
    "\n",
    "(3 * 4) + 5"
   ]
  },
  {
   "cell_type": "markdown",
   "id": "eb333a0c-758a-4aaf-979f-d197b420fcf3",
   "metadata": {},
   "source": [
    "### Exercise 9 - Create a code cell to convert minutes to hours"
   ]
  },
  {
   "cell_type": "code",
   "execution_count": 4,
   "id": "ca43b334-a106-408e-ab0f-60db03a57275",
   "metadata": {},
   "outputs": [
    {
     "data": {
      "text/plain": [
       "3.3333333333333335"
      ]
     },
     "execution_count": 4,
     "metadata": {},
     "output_type": "execute_result"
    }
   ],
   "source": [
    "# This will convert 200 minutes to hours by diving by 60\n",
    "\n",
    "200 / 60"
   ]
  },
  {
   "cell_type": "markdown",
   "id": "0d2a0651-7927-4826-b806-3708aef47a1e",
   "metadata": {},
   "source": [
    "### Exercise 10 - Insert a markdown cell to list Objectives\n",
    "\n",
    "**Objectives:**\n",
    "\n",
    "- List popular languages for Data Science  \n",
    "- Identify typical used libraries for Data Science  \n",
    "- Create markdown cells in Jupyter  \n",
    "- Execute arithmetic expressions using Python code  \n",
    "- Share a Jupyter Notebook through GitHub\n"
   ]
  },
  {
   "cell_type": "markdown",
   "id": "d800be8e-6bbe-4db7-b8a8-f81149ea7243",
   "metadata": {},
   "source": [
    "### Exercise 11 - Create a markdown cell to indicate the Author's name\n",
    "\n",
    "## Author  \n",
    "Ana Mª Baena Ampudia"
   ]
  },
  {
   "cell_type": "markdown",
   "id": "c94182c0-cc6f-4592-ab04-4a24e0111cfb",
   "metadata": {},
   "source": [
    "### Exercise 12 - Share your notebook through GitHub"
   ]
  },
  {
   "cell_type": "markdown",
   "id": "cc0a3947-9116-4d4a-b292-0646714df77d",
   "metadata": {},
   "source": [
    "### Exercise 13 -Take a screenshot of the first page of the notebook and save it as 1-notebook.png"
   ]
  },
  {
   "cell_type": "code",
   "execution_count": null,
   "id": "03918daf-a4f0-4d2e-aa4c-24b3d622e560",
   "metadata": {},
   "outputs": [],
   "source": []
  }
 ],
 "metadata": {
  "kernelspec": {
   "display_name": "Python 3 (ipykernel)",
   "language": "python",
   "name": "python3"
  },
  "language_info": {
   "codemirror_mode": {
    "name": "ipython",
    "version": 3
   },
   "file_extension": ".py",
   "mimetype": "text/x-python",
   "name": "python",
   "nbconvert_exporter": "python",
   "pygments_lexer": "ipython3",
   "version": "3.13.2"
  }
 },
 "nbformat": 4,
 "nbformat_minor": 5
}
